{
  "cells": [
    {
      "cell_type": "markdown",
      "metadata": {
        "id": "view-in-github",
        "colab_type": "text"
      },
      "source": [
        "<a href=\"https://colab.research.google.com/github/udkandi/Wordle-Solver/blob/main/Code_evaluation.ipynb\" target=\"_parent\"><img src=\"https://colab.research.google.com/assets/colab-badge.svg\" alt=\"Open In Colab\"/></a>"
      ]
    },
    {
      "cell_type": "code",
      "execution_count": null,
      "metadata": {
        "id": "7i6V-YmbpiLP",
        "colab": {
          "base_uri": "https://localhost:8080/"
        },
        "outputId": "bf155396-e825-48fb-d5c5-3adeab5131f8"
      },
      "outputs": [
        {
          "output_type": "stream",
          "name": "stdout",
          "text": [
            "Mounted at /content/drive\n"
          ]
        }
      ],
      "source": [
        "from google.colab import drive\n",
        "drive.mount('/content/drive')"
      ]
    },
    {
      "cell_type": "code",
      "execution_count": null,
      "metadata": {
        "id": "n4cp4IcApZoe"
      },
      "outputs": [],
      "source": [
        "import sys\n",
        "sys.path.insert(0,'/content/submit.py')"
      ]
    },
    {
      "cell_type": "code",
      "execution_count": null,
      "metadata": {
        "id": "Rbr1wYsrpq55"
      },
      "outputs": [],
      "source": [
        "from submit import my_fit"
      ]
    },
    {
      "cell_type": "code",
      "execution_count": null,
      "metadata": {
        "id": "n9rqqMaCy4Cb"
      },
      "outputs": [],
      "source": [
        "import time as tm\n",
        "import pickle\n",
        "import warnings\n",
        "import os"
      ]
    },
    {
      "cell_type": "code",
      "execution_count": null,
      "metadata": {
        "id": "4HIDkoKGeOeC"
      },
      "outputs": [],
      "source": [
        "%load_ext autoreload\n",
        "%autoreload 2"
      ]
    },
    {
      "cell_type": "code",
      "execution_count": null,
      "metadata": {
        "id": "Z3gJJkCyBGhz"
      },
      "outputs": [],
      "source": [
        "with open( \"dict\", 'r' ) as f:\n",
        "\twords = f.read().split( '\\n' )[:-1]\t\t# Omit the last line since it is empty\n",
        "\tnum_words = len(words)"
      ]
    },
    {
      "cell_type": "code",
      "execution_count": null,
      "metadata": {
        "id": "yyF2ceWm00ND"
      },
      "outputs": [],
      "source": [
        "class Merlin:\n",
        "\tdef __init__( self, query_max, words ):\n",
        "\t\tself.words = words\n",
        "\t\tself.num_words = len( words )\n",
        "\t\tself.secret = \"\"\n",
        "\t\tself.query_max = query_max\n",
        "\t\tself.arthur = None\n",
        "\t\tself.win_count = 0\n",
        "\t\tself.tot_query_count = 0\n",
        "\t\tself.rnd_query_count = 0\n",
        "\n",
        "\tdef meet( self, arthur ):\n",
        "\t\tself.arthur = arthur\n",
        "\n",
        "\tdef reset( self, secret ):\n",
        "\t\tself.secret = secret\n",
        "\t\tself.rnd_query_count = 0\n",
        "\n",
        "\t# Receive a message from Arthur\n",
        "\t# Process it and terminate the round or else message Arthur back\n",
        "\t# Arthur can set is_done to request termination of this round after this query\n",
        "\tdef msg( self, query_idx, is_done = False ):\n",
        "\n",
        "\t\t# Supplying an illegal value for query_idx is a way for Arthur to request\n",
        "\t\t# termination of this round immediately without even processing the current query\n",
        "\t\t# However, this results in query count being set to max for this round\n",
        "\t\tif query_idx < 0 or query_idx > self.num_words - 1:\n",
        "\t\t\twarnings.warn( \"Warning: Arthur has sent an illegal query -- terminating this round\", UserWarning )\n",
        "\t\t\tself.tot_query_count += self.query_max\n",
        "\t\t\treturn\n",
        "\n",
        "\t\t# Arthur has made a valid query\n",
        "\t\t# Find the guessed word and increase the query counter\n",
        "\t\tquery = self.words[ query_idx ]\n",
        "\t\tself.rnd_query_count += 1\n",
        "\n",
        "\t\t# Find out the intersections between the query and the secret\n",
        "\t\treveal = [ *( '_' * len( self.secret ) ) ]\n",
        "\n",
        "\t\tfor i in range( min( len( self.secret ), len( query ) ) ):\n",
        "\t\t\tif self.secret[i] == query[i]:\n",
        "\t\t\t\treveal[ i ] = self.secret[i]\n",
        "\n",
        "\t\t# The word was correctly guessed\n",
        "\t\tif '_' not in reveal:\n",
        "\t\t\tself.win_count += 1\n",
        "\t\t\tself.tot_query_count += self.rnd_query_count\n",
        "\t\t\treturn\n",
        "\n",
        "\t\t# Too many queries have been made - terminate the round\n",
        "\t\tif self.rnd_query_count >= self.query_max:\n",
        "\t\t\tself.tot_query_count += self.rnd_query_count\n",
        "\t\t\treturn\n",
        "\n",
        "\t\t# If Arthur is done playing, terminate this round\n",
        "\t\tif is_done:\n",
        "\t\t\tself.tot_query_count += self.rnd_query_count\n",
        "\t\t\treturn\n",
        "\n",
        "\t\t# If none of the above happen, continue playing\n",
        "\t\tself.arthur.msg( ' '.join( reveal ) )\n",
        "\n",
        "\tdef reset_and_play( self, secret ):\n",
        "\t\tself.reset( secret )\n",
        "\t\tself.arthur.msg( ( \"_ \" * len( self.secret ) )[:-1] )"
      ]
    },
    {
      "cell_type": "code",
      "execution_count": null,
      "metadata": {
        "id": "a4zUWSSlETsP"
      },
      "outputs": [],
      "source": [
        "class Arthur:\n",
        "\tdef __init__( self, model ):\n",
        "\t\tself.dt = model\n",
        "\t\tself.curr_node = self.dt.root\n",
        "\t\tself.merlin = None\n",
        "\t\tself.is_done = False\n",
        "\n",
        "\tdef meet( self, merlin ):\n",
        "\t\tself.merlin = merlin\n",
        "\n",
        "\tdef reset( self ):\n",
        "\t\tself.curr_node = self.dt.root\n",
        "\t\tself.is_done = False\n",
        "\n",
        "\tdef msg( self, response ):\n",
        "\t\t# If we are not at a leaf, lets go to the appropriate child based on the response\n",
        "\t\tif not self.curr_node.is_leaf:\n",
        "\t\t\tself.curr_node = self.curr_node.get_child( response )\n",
        "\t\t# If we are at a leaf, we should reqeust Merlin to terminate the round after this query\n",
        "\t\telse:\n",
        "\t\t\tself.is_done = True\n",
        "\n",
        "\t\t# Either way, get the query to be sent to Merlin\n",
        "\t\tquery = self.curr_node.get_query()\n",
        "\t\tself.merlin.msg( query, self.is_done )"
      ]
    },
    {
      "cell_type": "code",
      "execution_count": null,
      "metadata": {
        "id": "o3EitVjN1ECj"
      },
      "outputs": [],
      "source": [
        "query_max = 15\n",
        "n_trials = 5\n",
        "\n",
        "t_train = 0\n",
        "m_size = 0\n",
        "win = 0\n",
        "query = 0"
      ]
    },
    {
      "cell_type": "code",
      "execution_count": null,
      "metadata": {
        "id": "3K61nn412Zb9"
      },
      "outputs": [],
      "source": [
        "for t in range( n_trials ):\n",
        "\ttic = tm.perf_counter()\n",
        "\tmodel = my_fit( words )\n",
        "\ttoc = tm.perf_counter()\n",
        "\tt_train += toc - tic\n",
        "\n",
        "\twith open( f\"model_dump_{t}.pkl\", \"wb\" ) as outfile:\n",
        "\t\tpickle.dump( model, outfile, protocol=pickle.HIGHEST_PROTOCOL )\n",
        "\n",
        "\tm_size += os.path.getsize( f\"model_dump_{t}.pkl\" )\n",
        "\n",
        "\tmerlin = Merlin( query_max, words )\n",
        "\tarthur = Arthur( model )\n",
        "\tmerlin.meet( arthur )\n",
        "\tarthur.meet( merlin )\n",
        "\n",
        "\tfor ( i, secret ) in enumerate( words ):\n",
        "\t\tarthur.reset()\n",
        "\t\tmerlin.reset_and_play( secret )\n",
        "\n",
        "\twin += merlin.win_count / num_words\n",
        "\tquery += merlin.tot_query_count / num_words"
      ]
    },
    {
      "cell_type": "code",
      "execution_count": null,
      "metadata": {
        "id": "JLD7vH4U0Z8D",
        "colab": {
          "base_uri": "https://localhost:8080/"
        },
        "outputId": "ebe9d688-8c5e-4250-bcc0-f05f6c079a4d"
      },
      "outputs": [
        {
          "output_type": "stream",
          "name": "stdout",
          "text": [
            "5.119400878400006 894711.0 1.0 4.087865299012967\n"
          ]
        }
      ],
      "source": [
        "t_train /= n_trials\n",
        "m_size /= n_trials\n",
        "win /= n_trials\n",
        "query /= n_trials\n",
        "\n",
        "print( t_train, m_size, win, query )"
      ]
    },
    {
      "cell_type": "code",
      "source": [],
      "metadata": {
        "id": "MnMw3V9ecDGj"
      },
      "execution_count": null,
      "outputs": []
    }
  ],
  "metadata": {
    "colab": {
      "provenance": [],
      "include_colab_link": true
    },
    "kernelspec": {
      "display_name": "Python 3",
      "name": "python3"
    },
    "language_info": {
      "name": "python"
    }
  },
  "nbformat": 4,
  "nbformat_minor": 0
}